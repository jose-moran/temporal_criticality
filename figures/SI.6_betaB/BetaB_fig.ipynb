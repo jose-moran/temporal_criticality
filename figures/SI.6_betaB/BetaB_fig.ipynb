{
 "cells": [
  {
   "cell_type": "code",
   "execution_count": 1,
   "metadata": {},
   "outputs": [],
   "source": [
    "import numpy as np \n",
    "import matplotlib.pyplot as plt\n",
    "import scienceplots\n",
    "%matplotlib inline"
   ]
  },
  {
   "cell_type": "code",
   "execution_count": 2,
   "metadata": {},
   "outputs": [],
   "source": [
    "# a function to compute y = [ 1 – 5/(20)^{x/3} ]^+ for x \\leq 3 and y = ¼ for x > 3\n",
    "def f(x):\n",
    "    if x <= 3:\n",
    "        return max(0, 1 - 5/(20**(x/3))) / x \n",
    "    else:\n",
    "        return 0.25 "
   ]
  },
  {
   "cell_type": "code",
   "execution_count": 3,
   "metadata": {},
   "outputs": [],
   "source": [
    "# Using a standardized style set that largely holds to Nature's guidelines.\n",
    "plt.style.use('science')\n",
    "plt.style.use(['nature'])"
   ]
  },
  {
   "cell_type": "code",
   "execution_count": 4,
   "metadata": {},
   "outputs": [
    {
     "name": "stderr",
     "output_type": "stream",
     "text": [
      "C:\\Users\\mcr\\AppData\\Local\\Temp\\ipykernel_8124\\1122320089.py:4: RuntimeWarning: invalid value encountered in double_scalars\n",
      "  return max(0, 1 - 5/(20**(x/3))) / x\n"
     ]
    },
    {
     "data": {
      "image/png": "[encoded data removed]",
      "text/plain": [
       "<Figure size 330x250 with 1 Axes>"
      ]
     },
     "metadata": {},
     "output_type": "display_data"
    }
   ],
   "source": [
    "fig, ax = plt.subplots()\n",
    "\n",
    "x_max = 5\n",
    "xs = np.linspace(0, x_max, 500)\n",
    "ys = [f(x) for x in xs]\n",
    "\n",
    "xs_ = [x for (x,y) in zip(xs, ys) if y > 0]\n",
    "ys_ = [y for y in ys if y > 0]\n",
    "\n",
    "ax.plot(xs_, ys_, linewidth=2)\n",
    "\n",
    "ax.set_xlabel(r'$\\beta B$')\n",
    "ax.set_ylabel(r'$\\bar\\epsilon/B$')\n",
    "\n",
    "# shade the area between 0 and ys \n",
    "# ax.fill_between(xs, 0, ys, color='grey', alpha=0.5)\n",
    "# same but in light green \n",
    "# ax.fill_between(xs, 0, ys, color='#c7ea46', alpha=0.5)\n",
    "# darker green\n",
    "y0 = ax.get_ylim()[0]\n",
    "\n",
    "xs_bis = np.linspace(-1,x_max,300)\n",
    "ys_bis = [f(x) for x in xs_bis]\n",
    "\n",
    "ax.fill_between(xs_bis, y0, ys_bis, color='green', alpha=0.25)\n",
    "\n",
    "# a grey dashed line from y0 to 0.25 at x=3 \n",
    "ax.plot([3, 3], [y0, 0.25], color='grey', linestyle='--')\n",
    "\n",
    "ax.set_ylim(0, ax.get_ylim()[1])\n",
    "\n",
    "ax.set_xlim(0, x_max)\n",
    "\n",
    "# add text in latex \"v>0\" at x=4 and y=0.12\n",
    "ax.text(3.5, 0.10, r'$v=0$')\n",
    "\n",
    "# add text in latex \"v>0\" at x=0.5 and y=0.18\n",
    "ax.text(0.7, 0.098, r'$v>0$')\n",
    "\n",
    "fig.tight_layout()\n",
    "\n",
    "#same in pdf\n",
    "fig.savefig(\"betabfig.pdf\")\n",
    " "
   ]
  }
 ],
 "metadata": {
  "kernelspec": {
   "display_name": "py3",
   "language": "python",
   "name": "python3"
  },
  "language_info": {
   "codemirror_mode": {
    "name": "ipython",
    "version": 3
   },
   "file_extension": ".py",
   "mimetype": "text/x-python",
   "name": "python",
   "nbconvert_exporter": "python",
   "pygments_lexer": "ipython3",
   "version": "3.9.1"
  },
  "orig_nbformat": 4
 },
 "nbformat": 4,
 "nbformat_minor": 2
}
