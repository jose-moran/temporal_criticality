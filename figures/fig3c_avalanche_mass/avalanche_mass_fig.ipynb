{
 "cells": [
  {
   "cell_type": "code",
   "execution_count": 8,
   "metadata": {},
   "outputs": [],
   "source": [
    "import numpy as np\n",
    "import matplotlib.pyplot as plt\n",
    "import matplotlib\n",
    "import scienceplots"
   ]
  },
  {
   "cell_type": "code",
   "execution_count": 9,
   "metadata": {},
   "outputs": [],
   "source": [
    "B1=3.6799119729375\n",
    "B2=3.6837088479375\n",
    "B3=3.6894041604375\n",
    "B4=3.6979471291875\n",
    "B5=3.7107615823125\n",
    "Bcs = np.array([B1, B2, B3, B4, B5])\n",
    "\n",
    "Bc_best=3.67552207\n",
    "a_best=1.58\n",
    "\n",
    "scale_factors = np.array([1, 2.78, 6.84, 16, 34])"
   ]
  },
  {
   "cell_type": "code",
   "execution_count": 10,
   "metadata": {},
   "outputs": [],
   "source": [
    "Bc = 3.67552207\n",
    "alpha = 1.69356833\n",
    "\n",
    "B1_data = np.genfromtxt(\"data/P_mass1.txt\")\n",
    "B2_data = np.genfromtxt(\"data/P_mass2.txt\")\n",
    "B3_data = np.genfromtxt(\"data/P_mass3.txt\")\n",
    "B4_data = np.genfromtxt(\"data/P_mass4.txt\")\n",
    "B5_data = np.genfromtxt(\"data/P_mass5.txt\")\n",
    "\n"
   ]
  },
  {
   "cell_type": "code",
   "execution_count": 11,
   "metadata": {},
   "outputs": [],
   "source": [
    "B = np.array([3.6799119729375,\n",
    "3.6837088479375,   \n",
    "3.6894041604375,  \n",
    "3.6979471291875,        \n",
    "3.7107615823125] )\n",
    "avg_masses = np.array([4316.56, 1609.39, 661.717, 291.716, 136.771])"
   ]
  },
  {
   "cell_type": "code",
   "execution_count": 12,
   "metadata": {},
   "outputs": [],
   "source": [
    "# Using a standardized style set that largely holds to Nature's guidelines.\n",
    "plt.style.use('science')\n",
    "plt.style.use(['science','nature'])"
   ]
  },
  {
   "cell_type": "code",
   "execution_count": 13,
   "metadata": {},
   "outputs": [
    {
     "name": "stderr",
     "output_type": "stream",
     "text": [
      "C:\\Users\\0915564\\AppData\\Local\\Temp\\ipykernel_12108\\3012267427.py:14: UserWarning: *c* argument looks like a single numeric RGB or RGBA sequence, which should be avoided as value-mapping will have precedence in case its length matches with *x* & *y*.  Please use the *color* keyword-argument or provide a 2D array with a single row if you intend to specify the same RGB or RGBA value for all points.\n",
      "  ax1.scatter(B5_data[:, 0], B5_data[:, 1], linewidth=1, c=colors[4], label=fr\"$B \\approx {str(B5)[:6]}$\", s=2*size, marker=\"s\")\n",
      "C:\\Users\\0915564\\AppData\\Local\\Temp\\ipykernel_12108\\3012267427.py:15: UserWarning: *c* argument looks like a single numeric RGB or RGBA sequence, which should be avoided as value-mapping will have precedence in case its length matches with *x* & *y*.  Please use the *color* keyword-argument or provide a 2D array with a single row if you intend to specify the same RGB or RGBA value for all points.\n",
      "  ax1.scatter(B4_data[:, 0], B4_data[:, 1] , linewidth=1, c=colors[3], label=fr\"$B \\approx {str(B4)[:6]}$\", s=5*size, marker=\"+\")\n",
      "C:\\Users\\0915564\\AppData\\Local\\Temp\\ipykernel_12108\\3012267427.py:16: UserWarning: *c* argument looks like a single numeric RGB or RGBA sequence, which should be avoided as value-mapping will have precedence in case its length matches with *x* & *y*.  Please use the *color* keyword-argument or provide a 2D array with a single row if you intend to specify the same RGB or RGBA value for all points.\n",
      "  ax1.scatter(B3_data[:, 0], B3_data[:, 1] , linewidth=1, c=colors[2], label=fr\"$B \\approx {str(B3)[:6]}$\", s=1.3*size, marker=\"^\")\n",
      "C:\\Users\\0915564\\AppData\\Local\\Temp\\ipykernel_12108\\3012267427.py:17: UserWarning: *c* argument looks like a single numeric RGB or RGBA sequence, which should be avoided as value-mapping will have precedence in case its length matches with *x* & *y*.  Please use the *color* keyword-argument or provide a 2D array with a single row if you intend to specify the same RGB or RGBA value for all points.\n",
      "  ax1.scatter(B2_data[:, 0], B2_data[:, 1] , linewidth=1, c=colors[1], label=fr\"$B \\approx{str(B2)[:6]}$\", s=1.7*size, marker=\"v\")\n",
      "C:\\Users\\0915564\\AppData\\Local\\Temp\\ipykernel_12108\\3012267427.py:18: UserWarning: *c* argument looks like a single numeric RGB or RGBA sequence, which should be avoided as value-mapping will have precedence in case its length matches with *x* & *y*.  Please use the *color* keyword-argument or provide a 2D array with a single row if you intend to specify the same RGB or RGBA value for all points.\n",
      "  ax1.scatter(B1_data[:, 0], B1_data[:, 1] , linewidth=1, c=colors[0], label=fr\"$B \\approx {str(B1)[:6]}$\", s=3*size, marker=\"*\")\n"
     ]
    },
    {
     "name": "stdout",
     "output_type": "stream",
     "text": [
      "0.004389902937500079 [4316.56  1609.39   661.717  291.716  136.771]\n"
     ]
    },
    {
     "data": {
      "image/png": "[encoded data removed]",
      "text/plain": [
       "<Figure size 243.897x255.047 with 2 Axes>"
      ]
     },
     "metadata": {},
     "output_type": "display_data"
    }
   ],
   "source": [
    "# fig c width = 1.166666 * 53.1 / 25.4 = 2.45\n",
    "width = 1.166666 * 53.1 / 25.4\n",
    "height = 53.1 * 1.22 / 25.4\n",
    "fig, ax1 = plt.subplots(figsize=(width, height))\n",
    "size = 4\n",
    "\n",
    "B6 = 3.6000\n",
    "B_values = [B1, B2, B3, B4, B5, B6]\n",
    "norm = plt.Normalize(min(B_values[:-1])*0.995, max(B_values[:-1]))\n",
    "colors = plt.cm.copper(norm(B_values))\n",
    "colors[-1] = plt.cm.copper(1.0)\n",
    "norm = matplotlib.colors.SymLogNorm(linthresh=0.01, vmin=min(B_values), vmax=max(B_values))\n",
    "\n",
    "ax1.scatter(B5_data[:, 0], B5_data[:, 1], linewidth=1, c=colors[4], label=fr\"$B \\approx {str(B5)[:6]}$\", s=2*size, marker=\"s\")\n",
    "ax1.scatter(B4_data[:, 0], B4_data[:, 1] , linewidth=1, c=colors[3], label=fr\"$B \\approx {str(B4)[:6]}$\", s=5*size, marker=\"+\")\n",
    "ax1.scatter(B3_data[:, 0], B3_data[:, 1] , linewidth=1, c=colors[2], label=fr\"$B \\approx {str(B3)[:6]}$\", s=1.3*size, marker=\"^\")\n",
    "ax1.scatter(B2_data[:, 0], B2_data[:, 1] , linewidth=1, c=colors[1], label=fr\"$B \\approx{str(B2)[:6]}$\", s=1.7*size, marker=\"v\")\n",
    "ax1.scatter(B1_data[:, 0], B1_data[:, 1] , linewidth=1, c=colors[0], label=fr\"$B \\approx {str(B1)[:6]}$\", s=3*size, marker=\"*\")\n",
    "\n",
    "X=np.arange(100, 1E5, 1)\n",
    "ax1.plot(X, 0.02*X**-0.32, c=\"black\")\n",
    "ax1.set_xscale(\"log\")\n",
    "ax1.set_yscale(\"log\")\n",
    "ax1.set_xlabel(r\"Avalanche size $s$\")\n",
    "ax1.set_ylabel(r\"Probability distribution of $s$\")\n",
    "ax1.legend(frameon=False, loc=\"upper left\", bbox_to_anchor=(-0.01, 1.), handlelength=.5, handletextpad=0.4 )\n",
    "ax1.yaxis.set_tick_params(direction=\"in\")\n",
    "ax1.yaxis.set_minor_locator(plt.LogLocator(base=10.0, subs=(1.0,)))\n",
    "ax1.xaxis.set_tick_params(direction=\"in\")\n",
    "ax1.xaxis.set_minor_locator(plt.LogLocator(base=10.0, subs=(1.0,)))\n",
    "\n",
    "ax1.text(0.93, 0.91, r\"$\\sim s^{-0.32}$\", transform=ax1.transAxes,\n",
    "        horizontalalignment='right', verticalalignment='top')\n",
    "ax1.text(0.98, .97, r\"(c)\", transform=ax1.transAxes,\n",
    "        horizontalalignment='right', verticalalignment='top')\n",
    "\n",
    "ax1.tick_params(axis='x', which='both', pad=5)\n",
    "# OG: left, bottom, width, height = [0.455, 0.2, 0.265, 0.23]\n",
    "left, bottom, width, height = [0.515, 0.245, 0.2, 0.2]\n",
    "ax2 = fig.add_axes([left, bottom, width, height])\n",
    "\n",
    "ax2.set_xlabel(r\"$B - B_\\mathrm{c}(N)$\", labelpad=1)\n",
    "ax2.set_ylabel(r\"Mean avalanche size\", labelpad=1)\n",
    "ax2.set_yscale(\"log\")\n",
    "ax2.set_xscale(\"log\")\n",
    "xmax = 0.15\n",
    "xmin = 0.003\n",
    "ymax = 1E4\n",
    "ymin = 80\n",
    "\n",
    "ax2.set_xlim(xmin, xmax)\n",
    "ax2.set_ylim(ymin, ymax)\n",
    "\n",
    "import scipy\n",
    "x_data = np.array(B - Bc).astype(float)\n",
    "y_data = np.array(avg_masses).astype(float)\n",
    "def fit_function(BminBc, a, g):\n",
    "     return a * BminBc ** -g\n",
    "print(x_data[0], y_data)\n",
    "\n",
    "bounds = [[0.01,1.69356832],[1, 1.69356834]]\n",
    "\n",
    "params, params_covariance = scipy.optimize.curve_fit(fit_function, x_data, y_data, bounds= bounds)\n",
    "sampling = np.arange(0.002, xmax, 0.001)\n",
    "ax2.plot(sampling, fit_function(sampling, params[0], params[1]), c=\"red\", alpha=1, zorder=1, label=r\"fit\")\n",
    "ax2.scatter(B-Bc, avg_masses, label=r\"data\", c=\"black\", zorder=2, marker=\"+\", s=20)\n",
    "ax2.tick_params(axis=\"both\")\n",
    "\n",
    "ax2.legend(loc=\"upper right\", fontsize=6, frameon= False, \n",
    "           handlelength=.5, handletextpad=0.4, bbox_to_anchor=(1.07, 1.08))\n",
    "ax2.yaxis.set_minor_locator(plt.LogLocator(base=10.0, subs=(1.0,)))\n",
    "ax2.yaxis.set_tick_params(direction=\"in\", pad=1)\n",
    "ax2.tick_params(axis=\"both\")\n",
    "ax2.xaxis.set_minor_locator(plt.LogLocator(base=10.0, subs=(1.0,)))\n",
    "ax2.xaxis.set_tick_params(direction=\"in\", pad=2)\n",
    "fig.savefig(\"avalanche_mass_fig.pdf\", bbox_inches='tight')"
   ]
  },
  {
   "cell_type": "code",
   "execution_count": 20,
   "metadata": {},
   "outputs": [],
   "source": [
    "import pandas as pd\n",
    "\n",
    "# ax1: Scatter Data\n",
    "ax1_data = {\n",
    "    'B5_x': B5_data[:, 0],\n",
    "    'B5_y': B5_data[:, 1],\n",
    "    'B4_x': B4_data[:, 0],\n",
    "    'B4_y': B4_data[:, 1],\n",
    "    'B3_x': B3_data[:, 0],\n",
    "    'B3_y': B3_data[:, 1],\n",
    "    'B2_x': B2_data[:, 0],\n",
    "    'B2_y': B2_data[:, 1],\n",
    "    'B1_x': B1_data[:, 0],\n",
    "    'B1_y': B1_data[:, 1],\n",
    "}\n",
    "ax1_scatter_df = pd.DataFrame(ax1_data)\n",
    "ax1_scatter_df.to_csv('fig_source_data/ax1_scatter_data.csv', index=False)\n",
    "\n",
    "# ax1: Fit Data\n",
    "X = np.arange(100, 1E5, 1)\n",
    "Y = 0.02*X**-0.32\n",
    "ax1_fit_df = pd.DataFrame({'X': X, 'Y_fit': Y})\n",
    "ax1_fit_df.to_csv('fig_source_data/ax1_fit_data.csv', index=False)\n",
    "\n",
    "# ax2: Scatter Data (Mean avalanche size vs B-Bc)\n",
    "ax2_scatter_df = pd.DataFrame({'B-Bc': B - Bc, 'avg_masses': avg_masses})\n",
    "ax2_scatter_df.to_csv('fig_source_data/ax2_scatter_data.csv', index=False)\n",
    "\n",
    "# ax2: Fit Data\n",
    "sampling = np.arange(0.002, xmax, 0.001)\n",
    "Y_fit = fit_function(sampling, *params)\n",
    "ax2_fit_df = pd.DataFrame({'sampling': sampling, 'Y_fit': Y_fit})\n",
    "ax2_fit_df.to_csv('fig_source_data/ax2_fit_data.csv', index=False)\n",
    "\n",
    "with pd.ExcelWriter('fig_source_data/all_source_data.xlsx', engine='xlsxwriter') as writer:\n",
    "    ax1_scatter_df.to_excel(writer, sheet_name='main_figure_data', index=False)\n",
    "    ax1_fit_df.to_excel(writer, sheet_name='main_figure_fit', index=False)\n",
    "    ax2_scatter_df.to_excel(writer, sheet_name='inset_data', index=False)\n",
    "    ax2_fit_df.to_excel(writer, sheet_name='inset_fit', index=False)"
   ]
  }
 ],
 "metadata": {
  "kernelspec": {
   "display_name": "venv",
   "language": "python",
   "name": "python3"
  },
  "language_info": {
   "codemirror_mode": {
    "name": "ipython",
    "version": 3
   },
   "file_extension": ".py",
   "mimetype": "text/x-python",
   "name": "python",
   "nbconvert_exporter": "python",
   "pygments_lexer": "ipython3",
   "version": "3.11.6"
  },
  "orig_nbformat": 4
 },
 "nbformat": 4,
 "nbformat_minor": 2
}
