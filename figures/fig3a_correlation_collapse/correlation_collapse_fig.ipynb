{
 "cells": [
  {
   "cell_type": "code",
   "execution_count": 1,
   "metadata": {},
   "outputs": [],
   "source": [
    "import numpy as np\n",
    "import matplotlib.pyplot as plt\n",
    "import scipy\n",
    "import scienceplots\n",
    "import matplotlib"
   ]
  },
  {
   "cell_type": "code",
   "execution_count": 2,
   "metadata": {},
   "outputs": [],
   "source": [
    "B1=3.6799119729375\n",
    "B2=3.6837088479375\n",
    "B3=3.6894041604375\n",
    "B4=3.6979471291875\n",
    "B5=3.7107615823125\n",
    "Bcs = [B1, B2, B3, B4, B5]\n",
    "\n",
    "Bc_best=3.67623\n",
    "a_best=1.58\n",
    "\n",
    "scale_factors = [1, 2.78, 6.84, 16, 34]"
   ]
  },
  {
   "cell_type": "code",
   "execution_count": 3,
   "metadata": {},
   "outputs": [],
   "source": [
    "B1_data = np.genfromtxt(\"data/corr.ave_1.txt\")\n",
    "B2_data = np.genfromtxt(\"data/corr.ave_2.txt\")\n",
    "B3_data = np.genfromtxt(\"data/corr.ave_3.txt\")\n",
    "B4_data = np.genfromtxt(\"data/corr.ave_4.txt\")\n",
    "B5_data = np.genfromtxt(\"data/corr.ave_5.txt\")\n",
    "B6 = 3.6000"
   ]
  },
  {
   "cell_type": "code",
   "execution_count": 4,
   "metadata": {},
   "outputs": [],
   "source": [
    "# Using a standardized style set that largely holds to Nature's guidelines.\n",
    "plt.style.use('science')\n",
    "plt.style.use(['science','nature'])"
   ]
  },
  {
   "cell_type": "code",
   "execution_count": 5,
   "metadata": {},
   "outputs": [
    {
     "name": "stderr",
     "output_type": "stream",
     "text": [
      "C:\\Users\\0915564\\AppData\\Local\\Temp\\ipykernel_20944\\1360326252.py:19: UserWarning: *c* argument looks like a single numeric RGB or RGBA sequence, which should be avoided as value-mapping will have precedence in case its length matches with *x* & *y*.  Please use the *color* keyword-argument or provide a 2D array with a single row if you intend to specify the same RGB or RGBA value for all points.\n",
      "  ax1.scatter(B5_data[:, 0] * scale_factors[4], B5_data[:, 1], c= colors[4], linewidth=1, label=fr\"$B \\approx {str(B5)[:6]}$\", s=2*size, marker=\"s\")\n",
      "C:\\Users\\0915564\\AppData\\Local\\Temp\\ipykernel_20944\\1360326252.py:20: UserWarning: *c* argument looks like a single numeric RGB or RGBA sequence, which should be avoided as value-mapping will have precedence in case its length matches with *x* & *y*.  Please use the *color* keyword-argument or provide a 2D array with a single row if you intend to specify the same RGB or RGBA value for all points.\n",
      "  ax1.scatter(B4_data[:, 0] * scale_factors[3], B4_data[:, 1], c= colors[3], linewidth=1, label=fr\"$B \\approx {str(B4)[:6]}$\", s=5*size, marker=\"+\")\n",
      "C:\\Users\\0915564\\AppData\\Local\\Temp\\ipykernel_20944\\1360326252.py:21: UserWarning: *c* argument looks like a single numeric RGB or RGBA sequence, which should be avoided as value-mapping will have precedence in case its length matches with *x* & *y*.  Please use the *color* keyword-argument or provide a 2D array with a single row if you intend to specify the same RGB or RGBA value for all points.\n",
      "  ax1.scatter(B3_data[:, 0] * scale_factors[2], B3_data[:, 1], c= colors[2], linewidth=1, label=fr\"$B \\approx {str(B3)[:6]}$\", s=1.3*size, marker=\"^\")\n",
      "C:\\Users\\0915564\\AppData\\Local\\Temp\\ipykernel_20944\\1360326252.py:22: UserWarning: *c* argument looks like a single numeric RGB or RGBA sequence, which should be avoided as value-mapping will have precedence in case its length matches with *x* & *y*.  Please use the *color* keyword-argument or provide a 2D array with a single row if you intend to specify the same RGB or RGBA value for all points.\n",
      "  ax1.scatter(B2_data[:, 0] * scale_factors[1], B2_data[:, 1], c= colors[1], linewidth=1, label=fr\"$B \\approx {str(B2)[:6]}$\", s=1.7*size, marker=\"v\")\n",
      "C:\\Users\\0915564\\AppData\\Local\\Temp\\ipykernel_20944\\1360326252.py:23: UserWarning: *c* argument looks like a single numeric RGB or RGBA sequence, which should be avoided as value-mapping will have precedence in case its length matches with *x* & *y*.  Please use the *color* keyword-argument or provide a 2D array with a single row if you intend to specify the same RGB or RGBA value for all points.\n",
      "  ax1.scatter(B1_data[:, 0] * scale_factors[0], B1_data[:, 1], c= colors[0], linewidth=1, label=fr\"$B \\approx {str(B1)[:6]}$\", s=3*size, marker=\"*\")\n"
     ]
    },
    {
     "data": {
      "image/png": "[encoded data removed]",
      "text/plain": [
       "<Figure size 255.047x255.047 with 2 Axes>"
      ]
     },
     "metadata": {},
     "output_type": "display_data"
    }
   ],
   "source": [
    "def stretched_exp(t):\n",
    "    return np.exp(-(t/5835.57)**0.823257)\n",
    "\n",
    "def fit_function(B, Bc, a):\n",
    "    return (B-Bc)**a/(B1-Bc)**a\n",
    "\n",
    "width = 1.22 * 53.1 / 25.4\n",
    "height = 53.1 * 1.22 / 25.4\n",
    "fig, ax1 = plt.subplots(figsize=(width, height))\n",
    "\n",
    "size = 4\n",
    "\n",
    "B_values = [B1, B2, B3, B4, B5, B6]\n",
    "norm = plt.Normalize(min(B_values[:-1])*0.995, max(B_values[:-1]))\n",
    "colors = plt.cm.copper(norm(B_values))\n",
    "colors[-1] = plt.cm.copper(1.0)\n",
    "norm = matplotlib.colors.SymLogNorm(linthresh=0.01, vmin=min(B_values), vmax=max(B_values))\n",
    "\n",
    "ax1.scatter(B5_data[:, 0] * scale_factors[4], B5_data[:, 1], c= colors[4], linewidth=1, label=fr\"$B \\approx {str(B5)[:6]}$\", s=2*size, marker=\"s\")\n",
    "ax1.scatter(B4_data[:, 0] * scale_factors[3], B4_data[:, 1], c= colors[3], linewidth=1, label=fr\"$B \\approx {str(B4)[:6]}$\", s=5*size, marker=\"+\")\n",
    "ax1.scatter(B3_data[:, 0] * scale_factors[2], B3_data[:, 1], c= colors[2], linewidth=1, label=fr\"$B \\approx {str(B3)[:6]}$\", s=1.3*size, marker=\"^\")\n",
    "ax1.scatter(B2_data[:, 0] * scale_factors[1], B2_data[:, 1], c= colors[1], linewidth=1, label=fr\"$B \\approx {str(B2)[:6]}$\", s=1.7*size, marker=\"v\")\n",
    "ax1.scatter(B1_data[:, 0] * scale_factors[0], B1_data[:, 1], c= colors[0], linewidth=1, label=fr\"$B \\approx {str(B1)[:6]}$\", s=3*size, marker=\"*\")\n",
    "\n",
    "ax1.plot(np.arange(1, 40000), stretched_exp(np.arange(1, 40000)), color=\"black\", label= r\"fit\")\n",
    "\n",
    "xmax = 5.2E4\n",
    "xmin = 0\n",
    "ymax = 1.3\n",
    "ymin = 0.005\n",
    "ax1.set_xlim(xmin, xmax)\n",
    "ax1.set_ylim(ymin, ymax)\n",
    "ax1.yaxis.set_tick_params(direction=\"in\")\n",
    "ax1.set_yscale(\"log\")\n",
    "ax1.yaxis.set_minor_locator(plt.LogLocator(base=10.0, subs=(1.0,)))\n",
    "ax1.legend(frameon=False, loc=\"lower left\",handlelength=.5, handletextpad=0.4, bbox_to_anchor=(0, -0.03))\n",
    "ax1.set_xlabel(r\"Time $\\times$ ($B$-dependent scale factor)\")\n",
    "ax1.set_ylabel(r\"Autocorrelation mean delay per firm\")\n",
    "ax1.tick_params(axis=\"x\", direction=\"in\")\n",
    "ax1.set_xlim(0)\n",
    "ax1.text(0.98, .97, r\"(a)\", transform=ax1.transAxes,\n",
    "        horizontalalignment='right', verticalalignment='top')\n",
    "# Fit data with fit function.\n",
    "bounds = [[3.672, 1.56],[3.678, 2]]\n",
    "x_data = np.array(Bcs).astype(float)\n",
    "y_data = np.array(scale_factors).astype(float)\n",
    "\n",
    "params, params_covariance = scipy.optimize.curve_fit(fit_function, x_data, y_data, p0=[3.67623, 1.58], bounds=bounds)\n",
    "sampling = np.arange(3.68, 3.72, 0.001)\n",
    "\n",
    "left, bottom, width, height = [0.62, 0.47, 0.25, 0.33]\n",
    "ax2 = fig.add_axes([left, bottom, width, height])\n",
    "\n",
    "# Plot the fit with the data.\n",
    "ax2.set_xlabel(r\"$B$\", fontsize=7, labelpad=1)\n",
    "ax2.set_ylabel(r\"$B$-dependent scale factor\", fontsize=7, labelpad=1)\n",
    "ax2.plot(sampling, fit_function(sampling, params[0], params[1]), c=\"red\", alpha=1, zorder=1, label=r\"fit\")\n",
    "ax2.scatter(Bcs, scale_factors, color='black', marker=\"+\", zorder=2, label=r\"data\", s=20)\n",
    "ax2.legend(loc=\"upper left\", fontsize=6, frameon= False, \n",
    "           handlelength=.5, handletextpad=0.4, bbox_to_anchor=(0, 1))\n",
    "plt.savefig(\"correlation_collapse.pdf\", bbox_inches=\"tight\")\n"
   ]
  },
  {
   "cell_type": "code",
   "execution_count": 6,
   "metadata": {},
   "outputs": [],
   "source": [
    "import pandas as pd\n",
    "\n",
    "ax1_data_list = []\n",
    "\n",
    "# Iterate through each B data set and its corresponding scale factor\n",
    "for i, B_data in enumerate([B1_data, B2_data, B3_data, B4_data, B5_data]):\n",
    "    # Create a temporary DataFrame for each B data set\n",
    "    temp_df = pd.DataFrame({\n",
    "        f'B{i+1}_x': B_data[:, 0] * scale_factors[i],\n",
    "        f'B{i+1}_y': B_data[:, 1],\n",
    "    })\n",
    "    # Append the temporary DataFrame to the list\n",
    "    ax1_data_list.append(temp_df)\n",
    "\n",
    "# Concatenate all temporary DataFrames vertically\n",
    "ax1_scatter_df = pd.concat(ax1_data_list, axis=1)\n",
    "ax1_scatter_df.to_csv('fig_source_data/main_figure_scatter_data.csv', index=False)\n",
    "\n",
    "# Save fit data for ax1 plot\n",
    "t_values = np.arange(1, 40000)\n",
    "stretched_exp_values = stretched_exp(t_values)\n",
    "ax1_fit_df = pd.DataFrame({\n",
    "    'fit_x': t_values,\n",
    "    'fit_y': stretched_exp_values\n",
    "})\n",
    "ax1_fit_df.to_csv('fig_source_data/main_figure_fit_data.csv', index=False)\n",
    "\n",
    "# Save data for ax2 plot (Scatter and Fit together since they relate directly)\n",
    "# Scatter data for ax2\n",
    "ax2_scatter_data = pd.DataFrame({\n",
    "    'Bcs': Bcs,\n",
    "    'scale_factors': scale_factors\n",
    "})\n",
    "ax2_scatter_data.to_csv('fig_source_data/inset_scatter_data.csv', index=False)\n",
    "\n",
    "# Fitting curve data for ax2\n",
    "fit_x = sampling  # Ensure sampling is defined according to your needs\n",
    "fit_y = fit_function(fit_x, params[0], params[1])\n",
    "ax2_fit_data = pd.DataFrame({\n",
    "    'fit_x': fit_x,\n",
    "    'fit_y': fit_y\n",
    "})\n",
    "ax2_fit_data.to_csv('fig_source_data/inset_fit_data.csv', index=False)"
   ]
  }
 ],
 "metadata": {
  "kernelspec": {
   "display_name": "venv",
   "language": "python",
   "name": "python3"
  },
  "language_info": {
   "codemirror_mode": {
    "name": "ipython",
    "version": 3
   },
   "file_extension": ".py",
   "mimetype": "text/x-python",
   "name": "python",
   "nbconvert_exporter": "python",
   "pygments_lexer": "ipython3",
   "version": "3.11.6"
  },
  "orig_nbformat": 4
 },
 "nbformat": 4,
 "nbformat_minor": 2
}
