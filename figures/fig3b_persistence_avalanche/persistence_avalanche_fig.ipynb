{
 "cells": [
  {
   "cell_type": "code",
   "execution_count": 10,
   "metadata": {},
   "outputs": [],
   "source": [
    "import numpy as np\n",
    "import matplotlib.pyplot as plt\n",
    "import matplotlib\n",
    "import scienceplots"
   ]
  },
  {
   "cell_type": "code",
   "execution_count": 11,
   "metadata": {},
   "outputs": [],
   "source": [
    "B1=3.6799119729375\n",
    "B2=3.6837088479375\n",
    "B3=3.6894041604375\n",
    "B4=3.6979471291875\n",
    "B5=3.7107615823125\n",
    "B6 = 3.6000\n",
    "Bcs = np.array([B1, B2, B3, B4, B5])\n",
    "\n",
    "Bc_best=3.67552207\n",
    "a_best=1.695\n",
    "\n",
    "scale_factors = np.array([1, 2.78, 6.84, 16, 34])"
   ]
  },
  {
   "cell_type": "code",
   "execution_count": 12,
   "metadata": {},
   "outputs": [],
   "source": [
    "Bc = 3.67552207\n",
    "alpha = 1.69356833\n",
    "B1_data = np.genfromtxt(\"data/stat1_sm_20.dat\")\n",
    "B2_data = np.genfromtxt(\"data/stat2_sm_20.dat\")\n",
    "B3_data = np.genfromtxt(\"data/stat3_sm_20.dat\")\n",
    "B4_data = np.genfromtxt(\"data/stat4_sm_20.dat\")\n",
    "B5_data = np.genfromtxt(\"data/stat5_sm_20.dat\")\n"
   ]
  },
  {
   "cell_type": "code",
   "execution_count": 13,
   "metadata": {},
   "outputs": [],
   "source": [
    "insetdata = [231.147, 140.179, 89.0754, 58.2397, 38.9356]"
   ]
  },
  {
   "cell_type": "code",
   "execution_count": 14,
   "metadata": {},
   "outputs": [],
   "source": [
    "# Using a standardized style set that largely holds to Nature's guidelines.\n",
    "plt.style.use('science')\n",
    "plt.style.use(['nature'])"
   ]
  },
  {
   "cell_type": "code",
   "execution_count": 15,
   "metadata": {},
   "outputs": [
    {
     "name": "stderr",
     "output_type": "stream",
     "text": [
      "C:\\Users\\0915564\\AppData\\Local\\Temp\\ipykernel_6568\\4235622478.py:12: UserWarning: *c* argument looks like a single numeric RGB or RGBA sequence, which should be avoided as value-mapping will have precedence in case its length matches with *x* & *y*.  Please use the *color* keyword-argument or provide a 2D array with a single row if you intend to specify the same RGB or RGBA value for all points.\n",
      "  ax1.scatter(B5_data[:, 0] * (B5 - Bc)**alpha, B5_data[:, 1] / (B5 - Bc)**(1.5*alpha), linewidth=1, c=colors[4], label=fr\"$B \\approx {str(B5)[:6]}$\", s=2*size, marker=\"s\")\n",
      "C:\\Users\\0915564\\AppData\\Local\\Temp\\ipykernel_6568\\4235622478.py:13: UserWarning: *c* argument looks like a single numeric RGB or RGBA sequence, which should be avoided as value-mapping will have precedence in case its length matches with *x* & *y*.  Please use the *color* keyword-argument or provide a 2D array with a single row if you intend to specify the same RGB or RGBA value for all points.\n",
      "  ax1.scatter(B4_data[:, 0] * (B4 - Bc)**alpha, B4_data[:, 1] / (B4 - Bc)**(1.5*alpha), linewidth=1, c=colors[3], label=fr\"$B \\approx {str(B4)[:6]}$\", s=5*size, marker=\"+\")\n",
      "C:\\Users\\0915564\\AppData\\Local\\Temp\\ipykernel_6568\\4235622478.py:14: UserWarning: *c* argument looks like a single numeric RGB or RGBA sequence, which should be avoided as value-mapping will have precedence in case its length matches with *x* & *y*.  Please use the *color* keyword-argument or provide a 2D array with a single row if you intend to specify the same RGB or RGBA value for all points.\n",
      "  ax1.scatter(B3_data[:, 0] * (B3 - Bc)**alpha, B3_data[:, 1] / (B3 - Bc)**(1.5*alpha), linewidth=1, c=colors[2], label=fr\"$B \\approx {str(B3)[:6]}$\", s=1.3*size, marker=\"^\")\n",
      "C:\\Users\\0915564\\AppData\\Local\\Temp\\ipykernel_6568\\4235622478.py:15: UserWarning: *c* argument looks like a single numeric RGB or RGBA sequence, which should be avoided as value-mapping will have precedence in case its length matches with *x* & *y*.  Please use the *color* keyword-argument or provide a 2D array with a single row if you intend to specify the same RGB or RGBA value for all points.\n",
      "  ax1.scatter(B2_data[:, 0] * (B2 - Bc)**alpha, B2_data[:, 1] / (B2 - Bc)**(1.5*alpha), linewidth=1, c=colors[1], label=fr\"$B \\approx{str(B2)[:6]}$\", s=1.7*size, marker=\"v\")\n",
      "C:\\Users\\0915564\\AppData\\Local\\Temp\\ipykernel_6568\\4235622478.py:16: UserWarning: *c* argument looks like a single numeric RGB or RGBA sequence, which should be avoided as value-mapping will have precedence in case its length matches with *x* & *y*.  Please use the *color* keyword-argument or provide a 2D array with a single row if you intend to specify the same RGB or RGBA value for all points.\n",
      "  ax1.scatter(B1_data[:, 0] * (B1 - Bc)**alpha, B1_data[:, 1] / (B1 - Bc)**(1.5*alpha), linewidth=1, c=colors[0], label=fr\"$B \\approx {str(B1)[:6]}$\", s=3*size, marker=\"*\")\n"
     ]
    },
    {
     "data": {
      "image/png": "[encoded data removed]",
      "text/plain": [
       "<Figure size 236.22x236.22 with 2 Axes>"
      ]
     },
     "metadata": {},
     "output_type": "display_data"
    }
   ],
   "source": [
    "width = 180/ 25.4 /3 \n",
    "fig, ax1 = plt.subplots(figsize=(width, width))\n",
    "\n",
    "size = 4\n",
    "\n",
    "B_values = [B1, B2, B3, B4, B5, B6]\n",
    "norm = plt.Normalize(min(B_values[:-1])*0.995, max(B_values[:-1]))\n",
    "colors = plt.cm.copper(norm(B_values))\n",
    "colors[-1] = plt.cm.copper(1.0)\n",
    "norm = matplotlib.colors.SymLogNorm(linthresh=0.01, vmin=min(B_values), vmax=max(B_values))\n",
    "\n",
    "ax1.scatter(B5_data[:, 0] * (B5 - Bc)**alpha, B5_data[:, 1] / (B5 - Bc)**(1.5*alpha), linewidth=1, c=colors[4], label=fr\"$B \\approx {str(B5)[:6]}$\", s=2*size, marker=\"s\")\n",
    "ax1.scatter(B4_data[:, 0] * (B4 - Bc)**alpha, B4_data[:, 1] / (B4 - Bc)**(1.5*alpha), linewidth=1, c=colors[3], label=fr\"$B \\approx {str(B4)[:6]}$\", s=5*size, marker=\"+\")\n",
    "ax1.scatter(B3_data[:, 0] * (B3 - Bc)**alpha, B3_data[:, 1] / (B3 - Bc)**(1.5*alpha), linewidth=1, c=colors[2], label=fr\"$B \\approx {str(B3)[:6]}$\", s=1.3*size, marker=\"^\")\n",
    "ax1.scatter(B2_data[:, 0] * (B2 - Bc)**alpha, B2_data[:, 1] / (B2 - Bc)**(1.5*alpha), linewidth=1, c=colors[1], label=fr\"$B \\approx{str(B2)[:6]}$\", s=1.7*size, marker=\"v\")\n",
    "ax1.scatter(B1_data[:, 0] * (B1 - Bc)**alpha, B1_data[:, 1] / (B1 - Bc)**(1.5*alpha), linewidth=1, c=colors[0], label=fr\"$B \\approx {str(B1)[:6]}$\", s=3*size, marker=\"*\")\n",
    "\n",
    "X=np.arange(0.005, 0.6, 0.001)\n",
    "ax1.plot(X, 3*X**-1.5, c=\"black\")\n",
    "ax1.set_xscale(\"log\")\n",
    "ax1.set_yscale(\"log\")\n",
    "ax1.set_xlabel(r\"Persistence time $t_{\\mathrm{p}}) \\times  [(B-B_\\mathrm{c}(N)]^\\gamma$\")\n",
    "a = r\"$\\left$\"\n",
    "\n",
    "ax1.set_ylabel(r\"$\\left( \\begin{array}{c} \\mathrm{Probability} \\\\ \\mathrm{distribution}\\ \\mathrm{\\  of\\ } t_{\\mathrm{p}} \\end{array} \\right) / \\  [B-B_\\mathrm{c}(N)]^{3\\gamma/2}$\", multialignment='center')\n",
    "ax1.legend(frameon=False, loc=\"upper right\", bbox_to_anchor = (1.02, 0.96), handletextpad=0.2, handlelength=1)\n",
    "ax1.yaxis.set_tick_params(direction=\"in\")\n",
    "ax1.yaxis.set_minor_locator(plt.LogLocator(base=10.0, subs=(1.0,)))\n",
    "ax1.xaxis.set_tick_params(direction=\"in\")\n",
    "ax1.xaxis.set_minor_locator(plt.LogLocator(base=10.0, subs=(1.0,)))\n",
    "ax1.set_xlim(0.0001, 30)\n",
    "ax1.set_ylim(0.0001, 1E6)\n",
    "ax1.text(0.61, 0.77, r\"$\\sim t_{\\mathrm{p}}^{-3/2}$\", transform=ax1.transAxes,\n",
    "        horizontalalignment='right', verticalalignment='top')\n",
    "ax1.text(.98, .97, r\"(b)\", transform=ax1.transAxes,\n",
    "        horizontalalignment='right', verticalalignment='top')\n",
    "\n",
    "ax1.tick_params(axis='x', which='both', pad=5)\n",
    "\n",
    "\n",
    "left, bottom, width, height = [0.29, 0.27, 0.265, 0.23]\n",
    "ax2 = fig.add_axes([left, bottom, width, height])\n",
    "xticks = [3.68, 3.70]  \n",
    "ax2.set_xlabel(r\"$B - B_\\mathrm{c}(N)$\",labelpad=0.5 )\n",
    "ax2.set_ylabel(r\"$\\mathrm{Mean\\ persistence\\ time}$\", labelpad=0.5)\n",
    "ax2.set_yscale(\"log\")\n",
    "ax2.set_xscale(\"log\")\n",
    "\n",
    "\n",
    "ax2.yaxis.set_minor_locator(plt.LogLocator(base=10.0, subs=(1.0,)))\n",
    "ax2.yaxis.set_tick_params(direction=\"in\")\n",
    "ax2.tick_params(axis=\"both\")\n",
    "ax2.xaxis.set_minor_locator(plt.LogLocator(base=10.0, subs=(1.0,)))\n",
    "ax2.xaxis.set_tick_params(direction=\"in\")\n",
    "\n",
    "def fit_function(BminBc, a, g):\n",
    "     return a * BminBc ** -0.8463\n",
    "\n",
    "import scipy\n",
    "bounds = [[0.01,1.69356832],[1, 1.69356834]]\n",
    "x_data = np.array(Bcs - Bc).astype(float)\n",
    "y_data = np.array(insetdata).astype(float)\n",
    "params, params_covariance = scipy.optimize.curve_fit(fit_function, x_data, y_data)\n",
    "sampling = np.arange(0.002, 0.05, 0.001)#\n",
    "ax2.plot(sampling, fit_function(sampling, params[0], params[1]), c=\"red\", alpha=1, zorder=1, label=r\"$\\mathrm{fit}$\")\n",
    "\n",
    "ax2.scatter(Bcs - Bc, insetdata, marker=\"+\", c=\"black\", s=20, zorder=2, label=r\"$\\mathrm{data}$\")\n",
    "ax2.legend(loc=\"upper right\", fontsize=6, frameon= False, \n",
    "           handlelength=.5, handletextpad=0.3, bbox_to_anchor=(1.10, 1.05))\n",
    "\n",
    "\n",
    "fig.savefig(\"avalanche_fig.pdf\", bbox_inches='tight', dpi = 300)"
   ]
  }
 ],
 "metadata": {
  "kernelspec": {
   "display_name": "venv",
   "language": "python",
   "name": "python3"
  },
  "language_info": {
   "codemirror_mode": {
    "name": "ipython",
    "version": 3
   },
   "file_extension": ".py",
   "mimetype": "text/x-python",
   "name": "python",
   "nbconvert_exporter": "python",
   "pygments_lexer": "ipython3",
   "version": "3.11.6"
  },
  "orig_nbformat": 4
 },
 "nbformat": 4,
 "nbformat_minor": 2
}
