{
 "cells": [
  {
   "cell_type": "code",
   "execution_count": 1,
   "metadata": {},
   "outputs": [],
   "source": [
    "import numpy as np\n",
    "import matplotlib.pyplot as plt\n",
    "import scienceplots"
   ]
  },
  {
   "cell_type": "code",
   "execution_count": 2,
   "metadata": {},
   "outputs": [],
   "source": [
    "homogeneous_V = np.load(\"data/homogeneous.npy\")\n",
    "heterogeneous_V = np.load(\"data/heterogeneous.npy\")"
   ]
  },
  {
   "cell_type": "code",
   "execution_count": 3,
   "metadata": {},
   "outputs": [],
   "source": [
    "buffer_sizes_1lvl = np.arange(0,9,0.05)\n",
    "buf_x=np.arange(3.4,3.7,0.01)\n",
    "buffersizes_tot = np.concatenate((buffer_sizes_1lvl, buf_x))\n",
    "new_het_k_buffers = np.concatenate((np.arange(0,9, 0.05), np.arange(3.41,3.8,0.05), np.arange(3.42,3.8,0.05), np.arange(3.43,3.8,0.05), np.arange(3.44,3.8,0.05)))"
   ]
  },
  {
   "cell_type": "code",
   "execution_count": 6,
   "metadata": {},
   "outputs": [],
   "source": [
    "# Using a standardized style set that largely holds to Nature's guidelines.\n",
    "plt.style.use('science')\n",
    "plt.style.use(['science','nature'])"
   ]
  },
  {
   "cell_type": "code",
   "execution_count": 27,
   "metadata": {},
   "outputs": [
    {
     "data": {
      "image/png": "[encoded data removed]",
      "text/plain": [
       "<Figure size 330x250 with 1 Axes>"
      ]
     },
     "metadata": {},
     "output_type": "display_data"
    }
   ],
   "source": [
    "fig, ax1 = plt.subplots()\n",
    "\n",
    "# Settings\n",
    "size = 6\n",
    "# Plots\n",
    "ax1.scatter(buffersizes_tot, homogeneous_V, label= r\"$\\mathrm{STN,}\\  \\mathrm{homogeneous}\\ K$\", s=size, marker=\"s\", c=\"tab:blue\")\n",
    "ax1.scatter(new_het_k_buffers, heterogeneous_V, label= r\"$\\mathrm{STN,}\\ \\mathrm{heterogeneous}\\ K$\", s=1.6*size, marker=\"^\", c=\"tab:orange\")\n",
    "# Figure details\n",
    "ax1.set_xlim(-0.1, 6)\n",
    "ax1.set_ylim(-0.1, 4.8)\n",
    "ax1.set_xlabel(r\"$B$\")\n",
    "ax1.set_ylabel(r\"$v$\", rotation=0, labelpad=10)\n",
    "ax1.legend(frameon=False, loc=\"upper left\", bbox_to_anchor=(-0.0, 1.0), handlelength=.5, handletextpad=0.4)\n",
    "\n",
    "# Annotations\n",
    "left, bottom, width, height = [0.59, 0.26, 0.29, 0.558]\n",
    "ax1.text(0.99, .97, r\"$\\mathrm{(a)}$\", transform=ax1.transAxes,\n",
    "        horizontalalignment='right', verticalalignment='top')\n",
    "bc = 3.674\n",
    "ax1.vlines(bc, ymin=1E-10, ymax = 30, ls=(0,(3,1.5)), color=\"black\", \n",
    "            linewidth=1.5)\n",
    "arrow_x = bc # x-coordinate of the arrow\n",
    "arrow_y = 0.5 # y-coordinate of the arrow\n",
    "text_x = 3.9 # x-coordinate of the text box\n",
    "text_y = 1 # y-coordinate of the text box\n",
    "ax1.annotate(r'$B_\\mathrm{c}(N) \\approx 3.674$', \n",
    "            xy=(arrow_x, arrow_y), xytext=(text_x, text_y),arrowprops=dict(arrowstyle='->'), color='black',\n",
    "            zorder = 100)\n",
    "bc_het=3.570\n",
    "ax1.vlines(bc_het, ymin=1E-10, ymax = 30, ls=(0,(3,1.5)), color=\"black\", \n",
    "            linewidth=1.5)\n",
    "arrow_x = bc_het # x-coordinate of the arrow\n",
    "arrow_y = 1.5 # y-coordinate of the arrow\n",
    "text_x = 2 # x-coordinate of the text box\n",
    "text_y = 2.2 # y-coordinate of the text box\n",
    "ax1.annotate(r'$B_\\mathrm{c}(N) \\approx 3.57$', \n",
    "            xy=(arrow_x, arrow_y), xytext=(text_x, text_y),arrowprops=dict(arrowstyle='->'), color='black',\n",
    "            zorder = 100)\n",
    "plt.savefig(\"heterogeneity_v_graph.pdf\", bbox_inches=\"tight\")\n"
   ]
  }
 ],
 "metadata": {
  "kernelspec": {
   "display_name": "venv",
   "language": "python",
   "name": "python3"
  },
  "language_info": {
   "codemirror_mode": {
    "name": "ipython",
    "version": 3
   },
   "file_extension": ".py",
   "mimetype": "text/x-python",
   "name": "python",
   "nbconvert_exporter": "python",
   "pygments_lexer": "ipython3",
   "version": "3.11.6"
  },
  "orig_nbformat": 4
 },
 "nbformat": 4,
 "nbformat_minor": 2
}
