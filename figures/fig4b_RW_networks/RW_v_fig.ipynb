{
 "cells": [
  {
   "cell_type": "code",
   "execution_count": 1,
   "metadata": {},
   "outputs": [],
   "source": [
    "import numpy as np\n",
    "import matplotlib.pyplot as plt\n",
    "import scienceplots\n",
    "import pandas as pd"
   ]
  },
  {
   "cell_type": "code",
   "execution_count": 2,
   "metadata": {},
   "outputs": [],
   "source": [
    "# Load data\n",
    "Thiers13_delays = pd.read_csv('data/Thiers13_delays.csv').to_numpy()\n",
    "Workplace15_delays = pd.read_csv('data/Workplace15_delays.csv').to_numpy()\n",
    "buffer_lin = pd.read_csv('data/buffer_lin.csv').to_numpy()\n",
    "buffer_log = pd.read_csv('data/buffer_log.csv').to_numpy()"
   ]
  },
  {
   "cell_type": "code",
   "execution_count": 3,
   "metadata": {},
   "outputs": [],
   "source": [
    "# Using a standardized style set that largely holds to Nature's guidelines.\n",
    "plt.style.use('science')\n",
    "plt.style.use(['science','nature'])"
   ]
  },
  {
   "cell_type": "code",
   "execution_count": 4,
   "metadata": {},
   "outputs": [
    {
     "data": {
      "image/png": "[encoded data removed]",
      "text/plain": [
       "<Figure size 330x250 with 2 Axes>"
      ]
     },
     "metadata": {},
     "output_type": "display_data"
    }
   ],
   "source": [
    "size = 8\n",
    "fig, ax1 = plt.subplots()\n",
    "\n",
    "ax1.scatter(buffer_lin,  Thiers13_delays, label=r\"$\\mathrm{TN\\ from\\ a\\ highschool}$\", alpha=0.8, c=\"tab:orange\", s=size, marker=\"s\")\n",
    "ax1.scatter(buffer_log, Workplace15_delays, label=r\"$\\mathrm{TN\\ from\\ a\\ workplace}$\", alpha=0.8, c=\"tab:blue\", s=size, marker=\"^\")\n",
    "ax1.set_xlabel(r\"$B$\", rotation=0, labelpad=0)\n",
    "ax1.set_ylabel(r\"$v$\", rotation= 0, labelpad=10)\n",
    "ax1.set_ylim(-0.01, 0.18)\n",
    "\n",
    "# ax1.tick_params(axis=\"x\", labelsize=12)\n",
    "# ax1.tick_params(axis=\"y\", labelsize=12)\n",
    "\n",
    "ax1.legend(frameon=False, handlelength=.5, handletextpad=0.4, bbox_to_anchor=(0, 1), loc=\"upper left\")\n",
    "\n",
    "\n",
    "# Inset\n",
    "left, bottom, width, height = [0.5, 0.35, 0.35, 0.38]\n",
    "ax2 = fig.add_axes([left, bottom, width, height], zorder=5)\n",
    "\n",
    "ax2.scatter(buffer_lin,  Thiers13_delays, label=r\"$\\mathrm{TN\\ from\\ a\\ highschool}$\", alpha=0.8, c=\"tab:orange\", s=size,marker=\"s\")\n",
    "ax2.scatter(buffer_log, Workplace15_delays, label=r\"$\\mathrm{TN\\ from\\ a\\ workplace}$\", alpha=0.8, c=\"tab:blue\", s=size,marker=\"^\")\n",
    "\n",
    "ax2.set_xlabel(r\"$B$\", rotation=0, labelpad=-1)\n",
    "ax2.set_ylabel(r\"$v$\", rotation= 0, labelpad=4)\n",
    "\n",
    "ax2.set_xlim(0.7)\n",
    "ax2.set_ylim(1E-6)\n",
    "ax2.set_yscale(\"log\")\n",
    "ax2.set_xscale(\"log\")\n",
    "\n",
    "bcwork = 2.008\n",
    "bcschool = 2.496\n",
    "\n",
    "ax2.vlines(bcschool, ymin=1E-7, ymax = 1, ls=(0,(3,1.5)), color=\"black\", \n",
    "            linewidth=1.5)#label=r\"$\\mathrm{highschool}\\ B_\\mathrm{c} \\approx$ \" +r\"$2.07$\",\n",
    "ax2.vlines(bcwork, ymin=1E-7, ymax = 1, ls=(0,(3,1.5)), color=\"black\", \n",
    "            linewidth=1.5)#label=r\"$\\mathrm{workplace}\\ B_\\mathrm{c} \\approx$ \" +r\"$2.54$\",\n",
    "\n",
    "ax2.yaxis.set_minor_locator(plt.LogLocator(base=10.0, subs=(1.0,)))\n",
    "ax2.yaxis.set_tick_params(direction=\"in\", pad = 1)\n",
    "ax2.tick_params(axis=\"both\")\n",
    "ax2.xaxis.set_minor_locator(plt.LogLocator(base=10.0, subs=(0.1,)))\n",
    "ax2.xaxis.set_tick_params(direction=\"in\")\n",
    "\n",
    "\n",
    "# annotation (b)\n",
    "ax1.text(0.98, 0.97, r\"$\\mathrm{(b)}$\", transform=ax1.transAxes,\n",
    "        horizontalalignment='right', verticalalignment='top')\n",
    "\n",
    "# Bc annotations\n",
    "arrow_x = bcwork # x-coordinate of the arrow\n",
    "arrow_y = 2E-2 # y-coordinate of the arrow\n",
    "text_x = 0.8  # x-coordinate of the text box\n",
    "text_y = 0.4*1E-0 # y-coordinate of the text box\n",
    "ax2.annotate(r'$B_\\mathrm{c} \\approx 2.008$', \n",
    "            xy=(arrow_x, arrow_y), xytext=(text_x, text_y),arrowprops=dict(arrowstyle='->,head_length=0.45,head_width=0.3', connectionstyle=\"arc3,rad=-0\"), color='black',\n",
    "            zorder = 100,\n",
    "            bbox=dict(pad=0, facecolor=\"none\", edgecolor=\"none\"))  \n",
    "            \n",
    "\n",
    "arrow_x =bcschool  # x-coordinate of the arrow\n",
    "arrow_y = 2E-2 # y-coordinate of the arrow\n",
    "text_x = 2.17  # x-coordinate of the text box\n",
    "text_y = 0.4*1E-0 # y-coordinate of the text box\n",
    "ax2.annotate(r'$B_\\mathrm{c} \\approx 2.496$', \n",
    "            xy=(arrow_x, arrow_y), xytext=(text_x, text_y),arrowprops=dict(arrowstyle='->,head_length=0.45,head_width=0.3', connectionstyle=\"arc3,rad=-0.2\"), color='black',\n",
    "            zorder = 100,\n",
    "            bbox=dict(pad=0, facecolor=\"none\", edgecolor=\"none\"))  \n",
    "\n",
    "\n",
    "plt.savefig(\"RW_v_graph.pdf\", bbox_inches='tight')\n"
   ]
  },
  {
   "cell_type": "code",
   "execution_count": 9,
   "metadata": {},
   "outputs": [],
   "source": [
    "import pandas as pd\n",
    "\n",
    "# Main plot scatter data\n",
    "Thiers_plot_data = {\n",
    "    'buffer_lin_Thiers13': buffer_lin.flatten(),\n",
    "    'Thiers13_delays': Thiers13_delays.flatten()}\n",
    "Workplace_plot_data = {\n",
    "    'buffer_log_Workplace15': buffer_log.flatten(),\n",
    "    'Workplace15_delays': Workplace15_delays.flatten()\n",
    "}\n",
    "\n",
    "Thiers_plot_data = pd.DataFrame(Thiers_plot_data)\n",
    "Thiers_plot_data.to_csv('Thiers13_source_data.csv', index=False)\n",
    "\n",
    "Workplace_plot_data = pd.DataFrame(Workplace_plot_data)\n",
    "Workplace_plot_data.to_csv('Workplace15_source_data.csv', index=False)\n",
    "\n",
    "# Create a Pandas Excel writer using XlsxWriter as the engine\n",
    "with pd.ExcelWriter('fig_source_data/all_source_data.xlsx', engine='xlsxwriter') as writer:\n",
    "    Thiers_plot_data.to_excel(writer, sheet_name='Thiers13_delays', index=False)\n",
    "    Workplace_plot_data.to_excel(writer, sheet_name='Workplace15_delays', index=False)"
   ]
  }
 ],
 "metadata": {
  "kernelspec": {
   "display_name": "venv",
   "language": "python",
   "name": "python3"
  },
  "language_info": {
   "codemirror_mode": {
    "name": "ipython",
    "version": 3
   },
   "file_extension": ".py",
   "mimetype": "text/x-python",
   "name": "python",
   "nbconvert_exporter": "python",
   "pygments_lexer": "ipython3",
   "version": "3.11.6"
  },
  "orig_nbformat": 4
 },
 "nbformat": 4,
 "nbformat_minor": 2
}
